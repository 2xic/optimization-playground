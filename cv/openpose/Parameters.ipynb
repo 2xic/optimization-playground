{
 "cells": [
  {
   "cell_type": "code",
   "execution_count": 1,
   "id": "3d4455f1",
   "metadata": {},
   "outputs": [
    {
     "name": "stderr",
     "output_type": "stream",
     "text": [
      "/home/brage/.local/lib/python3.10/site-packages/torch/cuda/__init__.py:83: UserWarning: CUDA initialization: Unexpected error from cudaGetDeviceCount(). Did you run some cuda functions before calling NumCudaDevices() that might have already set an error? Error 803: system has unsupported display driver / cuda driver combination (Triggered internally at  ../c10/cuda/CUDAFunctions.cpp:109.)\n",
      "  return torch._C._cuda_getDeviceCount() > 0\n"
     ]
    }
   ],
   "source": [
    "import ipywidgets as widgets\n",
    "from ipywidgets import HBox, VBox\n",
    "import numpy as np\n",
    "import matplotlib.pyplot as plt\n",
    "from IPython.display import display\n",
    "import numpy as np\n",
    "from coco import Coco\n",
    "%matplotlib inline"
   ]
  },
  {
   "cell_type": "code",
   "execution_count": 2,
   "id": "c58b275a",
   "metadata": {},
   "outputs": [],
   "source": [
    "coco = Coco().load_annotations()"
   ]
  },
  {
   "cell_type": "markdown",
   "id": "e42d3881",
   "metadata": {},
   "source": [
    "### Confidence map"
   ]
  },
  {
   "cell_type": "code",
   "execution_count": 3,
   "id": "f3775c13",
   "metadata": {},
   "outputs": [
    {
     "data": {
      "application/vnd.jupyter.widget-view+json": {
       "model_id": "61f1b2320cad4355964a4bbdefc9c909",
       "version_major": 2,
       "version_minor": 0
      },
      "text/plain": [
       "interactive(children=(FloatSlider(value=1.0, description='sigma', max=1000.0, step=1.0), Output()), _dom_class…"
      ]
     },
     "metadata": {},
     "output_type": "display_data"
    }
   ],
   "source": [
    "@widgets.interact(min=-10, max=30)\n",
    "def f(\n",
    "        sigma=widgets.FloatSlider(min=0, max=1000, step=1, value=1), \n",
    "    ):\n",
    "    results = coco.get_confidence_map(sigma)\n",
    "    plt.imshow(results)"
   ]
  },
  {
   "cell_type": "markdown",
   "id": "56b8c02c",
   "metadata": {},
   "source": [
    "## Paf"
   ]
  },
  {
   "cell_type": "code",
   "execution_count": 4,
   "id": "6f7471a9",
   "metadata": {},
   "outputs": [
    {
     "data": {
      "application/vnd.jupyter.widget-view+json": {
       "model_id": "1f335292044c4d34af3a00dc7b4bf82d",
       "version_major": 2,
       "version_minor": 0
      },
      "text/plain": [
       "interactive(children=(FloatSlider(value=1.0, description='sigma', max=1000.0, step=1.0), Output()), _dom_class…"
      ]
     },
     "metadata": {},
     "output_type": "display_data"
    }
   ],
   "source": [
    "@widgets.interact(min=-10, max=30)\n",
    "def f(\n",
    "        sigma=widgets.FloatSlider(min=0, max=1000, step=1, value=1), \n",
    "    ):\n",
    "    results = coco.get_paf_map(sigma)\n",
    "    results[results == 1] = 255\n",
    "    plt.imshow(results)"
   ]
  },
  {
   "cell_type": "code",
   "execution_count": null,
   "id": "dde9308d",
   "metadata": {},
   "outputs": [],
   "source": []
  },
  {
   "cell_type": "code",
   "execution_count": null,
   "id": "5221f9cc",
   "metadata": {},
   "outputs": [],
   "source": []
  },
  {
   "cell_type": "code",
   "execution_count": null,
   "id": "5f5b7bdd",
   "metadata": {},
   "outputs": [],
   "source": []
  }
 ],
 "metadata": {
  "kernelspec": {
   "display_name": "Python 3.10.6 64-bit",
   "language": "python",
   "name": "python3"
  },
  "language_info": {
   "codemirror_mode": {
    "name": "ipython",
    "version": 3
   },
   "file_extension": ".py",
   "mimetype": "text/x-python",
   "name": "python",
   "nbconvert_exporter": "python",
   "pygments_lexer": "ipython3",
   "version": "3.10.6"
  },
  "vscode": {
   "interpreter": {
    "hash": "916dbcbb3f70747c44a77c7bcd40155683ae19c65e1c03b4aa3499c5328201f1"
   }
  }
 },
 "nbformat": 4,
 "nbformat_minor": 5
}
